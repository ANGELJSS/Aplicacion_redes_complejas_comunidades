{
  "nbformat": 4,
  "nbformat_minor": 0,
  "metadata": {
    "colab": {
      "private_outputs": true,
      "provenance": []
    },
    "kernelspec": {
      "name": "python3",
      "display_name": "Python 3"
    },
    "language_info": {
      "name": "python"
    }
  },
  "cells": [
    {
      "cell_type": "code",
      "execution_count": null,
      "metadata": {
        "id": "I1lT6S-UIZTB"
      },
      "outputs": [],
      "source": [
        "import requests\n",
        "import json\n",
        "import pandas as pd\n",
        "import numpy as np\n",
        "\n",
        
      ]
    },
    {
      "cell_type": "code",
      "source": [
        "df = pd.read_json(jsonResponseData)\n",
        "df"
      ],
      "metadata": {
        "id": "KI8K5lXnI3ZN"
      },
      "execution_count": null,
      "outputs": []
    },
    {
      "cell_type": "code",
      "source": [
        "# Convert the nested data to a JSON string\n",
        "np.random.seed(0)\n",
        "data = df['mainOrganisationId'].apply(json.dumps)\n",
        "df = pd.concat([df.drop(['mainOrganisationId'], axis=1),\n",
        "                pd.json_normalize(data.apply(json.loads))], axis=1)\n",
        "df.rename(columns = {'displayValue':'Organizacion'}, inplace = True)\n",
        "df = df.drop(['title',\"value\"], axis=1)\n",
        "\n",
        "\n",
        "data = df['shortBaseCatLocationId'].apply(json.dumps)\n",
        "df = pd.concat([df.drop(['shortBaseCatLocationId'], axis=1),\n",
        "                pd.json_normalize(data.apply(json.loads))], axis=1)\n",
        "df.rename(columns = {'displayValue':'LocalizacionCorta'}, inplace = True)\n",
        "df = df.drop(['title',\"value\"], axis=1)\n",
        "\n",
        "data = df['completeName'].apply(json.dumps)\n",
        "df = pd.concat([df.drop(['completeName'], axis=1),\n",
        "                pd.json_normalize(data.apply(json.loads))], axis=1)\n",
        "df.rename(columns = {'value':'NombreCompleto'}, inplace = True)\n",
        "\n",
        "data = df['relationshipsBaseStakeholderId2'].apply(json.dumps)\n",
        "df = pd.concat([df.drop(['relationshipsBaseStakeholderId2'], axis=1),\n",
        "                pd.json_normalize(data.apply(json.loads))], axis=1)\n",
        "df.rename(columns = {'displayValue':'Individuo'}, inplace = True)\n",
        "df = df.drop(['title',\"value\"], axis=1)\n",
        "\n",
        "\n",
        "data = df['relationshipsBaseCatRelshipId'].apply(json.dumps)\n",
        "df = pd.concat([df.drop(['relationshipsBaseCatRelshipId'], axis=1),\n",
        "                pd.json_normalize(data.apply(json.loads))], axis=1)\n",
        "\n",
        "data = df['value'].apply(json.dumps)\n",
        "df = pd.concat([df.drop(['value'], axis=1),\n",
        "                pd.json_normalize(data.apply(json.loads))], axis=1)\n",
        "\n",
        "\n",
        "data = df[0].apply(json.dumps)\n",
        "df = pd.concat([df.drop([0], axis=1),\n",
        "                pd.json_normalize(data.apply(json.loads))], axis=1)\n",
        "df.rename(columns = {'name':'Relacion'}, inplace = True)\n",
        "\n",
        "df = df[[\"Organizacion\", \"LocalizacionCorta\",\"NombreCompleto\",\"Relacion\",\"Individuo\"]]\n",
        "df['Peso'] = np.random.randint(1, 4, df.shape[0])\n",
        "\n",
        "df"
      ],
      "metadata": {
        "id": "FujMyzyZJEKo"
      },
      "execution_count": null,
      "outputs": []
    },
    {
      "cell_type": "code",
      "source": [
        "df.to_csv('relaciones_comunidades.csv')"
      ],
      "metadata": {
        "id": "GpL38_h8P9f2"
      },
      "execution_count": null,
      "outputs": []
    },
    {
      "cell_type": "code",
      "source": [],
      "metadata": {
        "id": "2EEyG95bVqbi"
      },
      "execution_count": null,
      "outputs": []
    }
  ]
}
